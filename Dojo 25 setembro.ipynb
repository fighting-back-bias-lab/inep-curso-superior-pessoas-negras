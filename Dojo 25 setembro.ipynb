{
 "cells": [
  {
   "cell_type": "code",
   "execution_count": 3,
   "metadata": {},
   "outputs": [],
   "source": [
    "import pandas as pd"
   ]
  },
  {
   "cell_type": "code",
   "execution_count": 14,
   "metadata": {},
   "outputs": [],
   "source": [
    "alunos = pd.read_csv('2016-DM_ALUNO.CSV', delimiter='|', chunksize=100, encoding='ISO-8859-1')"
   ]
  },
  {
   "cell_type": "code",
   "execution_count": 15,
   "metadata": {},
   "outputs": [],
   "source": [
    "aluno = alunos.get_chunk(1)"
   ]
  },
  {
   "cell_type": "code",
   "execution_count": 16,
   "metadata": {},
   "outputs": [
    {
     "data": {
      "text/plain": [
       "array(['CO_IES', 'NO_IES', 'CO_CATEGORIA_ADMINISTRATIVA',\n",
       "       'DS_CATEGORIA_ADMINISTRATIVA', 'CO_ORGANIZACAO_ACADEMICA',\n",
       "       'DS_ORGANIZACAO_ACADEMICA', 'CO_CURSO', 'NO_CURSO',\n",
       "       'CO_CURSO_POLO', 'CO_TURNO_ALUNO', 'DS_TURNO_ALUNO',\n",
       "       'CO_GRAU_ACADEMICO', 'DS_GRAU_ACADEMICO', 'CO_MODALIDADE_ENSINO',\n",
       "       'DS_MODALIDADE_ENSINO', 'CO_NIVEL_ACADEMICO', 'DS_NIVEL_ACADEMICO',\n",
       "       'CO_OCDE', 'NO_OCDE', 'CO_OCDE_AREA_GERAL', 'NO_OCDE_AREA_GERAL',\n",
       "       'CO_OCDE_AREA_ESPECIFICA', 'NO_OCDE_AREA_ESPECIFICA',\n",
       "       'CO_OCDE_AREA_DETALHADA', 'NO_OCDE_AREA_DETALHADA',\n",
       "       'CO_ALUNO_CURSO', 'CO_ALUNO_CURSO_ORIGEM', 'CO_ALUNO',\n",
       "       'CO_COR_RACA_ALUNO', 'DS_COR_RACA_ALUNO', 'IN_SEXO_ALUNO',\n",
       "       'DS_SEXO_ALUNO', 'NU_ANO_ALUNO_NASC', 'NU_MES_ALUNO_NASC',\n",
       "       'NU_DIA_ALUNO_NASC', 'NU_IDADE_ALUNO', 'CO_NACIONALIDADE_ALUNO',\n",
       "       'DS_NACIONALIDADE_ALUNO', 'CO_PAIS_ORIGEM_ALUNO',\n",
       "       'CO_UF_NASCIMENTO', 'CO_MUNICIPIO_NASCIMENTO',\n",
       "       'IN_ALUNO_DEF_TGD_SUPER', 'IN_DEF_AUDITIVA', 'IN_DEF_FISICA',\n",
       "       'IN_DEF_INTELECTUAL', 'IN_DEF_MULTIPLA', 'IN_DEF_SURDEZ',\n",
       "       'IN_DEF_SURDOCEGUEIRA', 'IN_DEF_BAIXA_VISAO', 'IN_DEF_CEGUEIRA',\n",
       "       'IN_DEF_SUPERDOTACAO', 'IN_TGD_AUTISMO_INFANTIL',\n",
       "       'IN_TGD_SINDROME_ASPERGER', 'IN_TGD_SINDROME_RETT',\n",
       "       'IN_TGD_TRANSTOR_DESINTEGRATIVO', 'CO_ALUNO_SITUACAO',\n",
       "       'DS_ALUNO_SITUACAO', 'QT_CARGA_HORARIA_TOTAL',\n",
       "       'QT_CARGA_HORARIA_INTEG', 'DT_INGRESSO_CURSO', 'IN_ING_VESTIBULAR',\n",
       "       'IN_ING_ENEM', 'IN_ING_AVALIACAO_SERIADA',\n",
       "       'IN_ING_SELECAO_SIMPLIFICADA', 'IN_ING_SELECAO_VAGA_REMANESC',\n",
       "       'IN_ING_SELECAO_VAGA_PROG_ESPEC', 'IN_ING_TRANSF_EXOFFICIO',\n",
       "       'IN_ING_DECISAO_JUDICIAL', 'IN_ING_CONVENIO_PECG',\n",
       "       'IN_RESERVA_VAGAS', 'IN_RESERVA_ETNICO', 'IN_RESERVA_DEFICIENCIA',\n",
       "       'IN_RESERVA_ENSINO_PUBLICO', 'IN_RESERVA_RENDA_FAMILIAR',\n",
       "       'IN_RESERVA_OUTRA', 'IN_FINANC_ESTUDANTIL', 'IN_FIN_REEMB_FIES',\n",
       "       'IN_FIN_REEMB_ESTADUAL', 'IN_FIN_REEMB_MUNICIPAL',\n",
       "       'IN_FIN_REEMB_PROG_IES', 'IN_FIN_REEMB_ENT_EXTERNA',\n",
       "       'IN_FIN_REEMB_OUTRA', 'IN_FIN_NAOREEMB_PROUNI_INTEGR',\n",
       "       'IN_FIN_NAOREEMB_PROUNI_PARCIAL', 'IN_FIN_NAOREEMB_ESTADUAL',\n",
       "       'IN_FIN_NAOREEMB_MUNICIPAL', 'IN_FIN_NAOREEMB_PROG_IES',\n",
       "       'IN_FIN_NAOREEMB_ENT_EXTERNA', 'IN_FIN_NAOREEMB_OUTRA',\n",
       "       'IN_APOIO_SOCIAL', 'IN_APOIO_ALIMENTACAO',\n",
       "       'IN_APOIO_BOLSA_PERMANENCIA', 'IN_APOIO_BOLSA_TRABALHO',\n",
       "       'IN_APOIO_MATERIAL_DIDATICO', 'IN_APOIO_MORADIA',\n",
       "       'IN_APOIO_TRANSPORTE', 'IN_ATIVIDADE_EXTRACURRICULAR',\n",
       "       'IN_COMPL_ESTAGIO', 'IN_COMPL_EXTENSAO', 'IN_COMPL_MONITORIA',\n",
       "       'IN_COMPL_PESQUISA', 'IN_BOLSA_ESTAGIO', 'IN_BOLSA_EXTENSAO',\n",
       "       'IN_BOLSA_MONITORIA', 'IN_BOLSA_PESQUISA',\n",
       "       'CO_TIPO_ESCOLA_ENS_MEDIO', 'IN_ALUNO_PARFOR',\n",
       "       'CO_SEMESTRE_CONCLUSAO', 'CO_SEMESTRE_REFERENCIA',\n",
       "       'IN_MOBILIDADE_ACADEMICA', 'CO_MOBILIDADE_ACADEMICA',\n",
       "       'CO_MOBILIDADE_ACADEMICA_INTERN', 'CO_IES_DESTINO',\n",
       "       'CO_PAIS_DESTINO', 'IN_MATRICULA', 'IN_CONCLUINTE',\n",
       "       'IN_INGRESSO_TOTAL', 'IN_INGRESSO_VAGA_NOVA', 'ANO_INGRESSO'],\n",
       "      dtype=object)"
      ]
     },
     "execution_count": 16,
     "metadata": {},
     "output_type": "execute_result"
    }
   ],
   "source": [
    "aluno.columns.values"
   ]
  },
  {
   "cell_type": "code",
   "execution_count": null,
   "metadata": {},
   "outputs": [],
   "source": [
    "aluno.IN_IN"
   ]
  }
 ],
 "metadata": {
  "kernelspec": {
   "display_name": "Python 3",
   "language": "python",
   "name": "python3"
  },
  "language_info": {
   "codemirror_mode": {
    "name": "ipython",
    "version": 3
   },
   "file_extension": ".py",
   "mimetype": "text/x-python",
   "name": "python",
   "nbconvert_exporter": "python",
   "pygments_lexer": "ipython3",
   "version": "3.6.5"
  }
 },
 "nbformat": 4,
 "nbformat_minor": 2
}
