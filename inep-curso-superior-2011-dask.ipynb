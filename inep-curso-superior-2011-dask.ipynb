{
 "cells": [
  {
   "cell_type": "code",
   "execution_count": 5,
   "metadata": {},
   "outputs": [],
   "source": [
    "import dask as dask\n",
    "import dask.dataframe as dd\n",
    "\n",
    "\n",
    "#add csv to dataframe\n",
    "dataframe = dd.read_csv('DM_ALUNO_2011.CSV', delimiter='|', encoding='ISO-8859-1', assume_missing=True, usecols=['CO_COR_RACA_ALUNO',\n",
    "                           'IN_SEXO_ALUNO',\n",
    "                           'NU_ANO_ALUNO_NASC',\n",
    "                           'IN_RESERVA_VAGAS',\n",
    "                           'IN_FINANC_ESTUDANTIL',\n",
    "                           'IN_RESERVA_ETNICO',\n",
    "                           'IN_ING_VESTIBULAR',\n",
    "                           'IN_ING_ENEM',\n",
    "                           'IN_ING_OUTRO_TIPO_SELECAO',\n",
    "                           'IN_ING_CONVENIO_PECG',\n",
    "                           'IN_ING_OUTRA_FORMA',\n",
    "                           'IN_RESERVA_ETNICO',\n",
    "                           'IN_RESERVA_DEFICIENCIA',\n",
    "                           'IN_RESERVA_ENSINO_PUBLICO',\n",
    "                           'IN_RESERVA_RENDA_FAMILIAR',\n",
    "                           'IN_RESERVA_OUTROS',\n",
    "                           'IN_FIN_REEMB_FIES',\n",
    "                           'IN_FIN_REEMB_ESTADUAL',\n",
    "                           'IN_FIN_REEMB_MUNICIPAL',\n",
    "                           'IN_FIN_REEMB_PROG_IES',\n",
    "                           'IN_FIN_REEMB_ENT_EXTERNA',\n",
    "                           'IN_FIN_REEMB_OUTRA',\n",
    "                           'IN_FIN_NAOREEMB_PROUNI_INTEGR',\n",
    "                           'IN_FIN_NAOREEMB_PROUNI_PARCIAL',\n",
    "                           'IN_FIN_NAOREEMB_ESTADUAL',\n",
    "                           'IN_FIN_NAOREEMB_MUNICIPAL',\n",
    "                           'IN_FIN_NAOREEMB_PROG_IES',\n",
    "                           'IN_FIN_NAOREEMB_ENT_EXTERNA',\n",
    "                           'ANO_INGRESSO']); \n",
    "\n",
    "# print(len(dataframe))"
   ]
  },
  {
   "cell_type": "code",
   "execution_count": 6,
   "metadata": {},
   "outputs": [],
   "source": [
    "# generate sample from original dataframe\n",
    "sample = dataframe.sample(frac=0.01);\n",
    "# print(len(sample))"
   ]
  },
  {
   "cell_type": "code",
   "execution_count": 7,
   "metadata": {},
   "outputs": [
    {
     "name": "stdout",
     "output_type": "stream",
     "text": [
      "       CO_COR_RACA_ALUNO  IN_SEXO_ALUNO  NU_ANO_ALUNO_NASC  IN_RESERVA_VAGAS  \\\n",
      "33453                1.0            0.0             1979.0               0.0   \n",
      "30913                3.0            1.0             1981.0               0.0   \n",
      "24687                1.0            0.0             1988.0               0.0   \n",
      "30640                3.0            1.0             1984.0               0.0   \n",
      "8391                 1.0            1.0             1989.0               0.0   \n",
      "\n",
      "       IN_FINANC_ESTUDANTIL  IN_ING_VESTIBULAR  IN_ING_ENEM  \\\n",
      "33453                   1.0                0.0          1.0   \n",
      "30913                   0.0                1.0          0.0   \n",
      "24687                   0.0                0.0          0.0   \n",
      "30640                   0.0                1.0          0.0   \n",
      "8391                    0.0                1.0          0.0   \n",
      "\n",
      "       IN_ING_OUTRO_TIPO_SELECAO  IN_ING_CONVENIO_PECG  IN_ING_OUTRA_FORMA  \\\n",
      "33453                        0.0                   NaN                 0.0   \n",
      "30913                        0.0                   NaN                 0.0   \n",
      "24687                        0.0                   NaN                 1.0   \n",
      "30640                        0.0                   NaN                 0.0   \n",
      "8391                         0.0                   NaN                 0.0   \n",
      "\n",
      "           ...       IN_FIN_REEMB_PROG_IES  IN_FIN_REEMB_ENT_EXTERNA  \\\n",
      "33453      ...                         0.0                       0.0   \n",
      "30913      ...                         NaN                       NaN   \n",
      "24687      ...                         NaN                       NaN   \n",
      "30640      ...                         NaN                       NaN   \n",
      "8391       ...                         NaN                       NaN   \n",
      "\n",
      "       IN_FIN_REEMB_OUTRA  IN_FIN_NAOREEMB_PROUNI_INTEGR  \\\n",
      "33453                 0.0                            0.0   \n",
      "30913                 NaN                            NaN   \n",
      "24687                 NaN                            NaN   \n",
      "30640                 NaN                            NaN   \n",
      "8391                  NaN                            NaN   \n",
      "\n",
      "       IN_FIN_NAOREEMB_PROUNI_PARCIAL  IN_FIN_NAOREEMB_ESTADUAL  \\\n",
      "33453                             1.0                       0.0   \n",
      "30913                             NaN                       NaN   \n",
      "24687                             NaN                       NaN   \n",
      "30640                             NaN                       NaN   \n",
      "8391                              NaN                       NaN   \n",
      "\n",
      "       IN_FIN_NAOREEMB_MUNICIPAL  IN_FIN_NAOREEMB_PROG_IES  \\\n",
      "33453                        0.0                       0.0   \n",
      "30913                        NaN                       NaN   \n",
      "24687                        NaN                       NaN   \n",
      "30640                        NaN                       NaN   \n",
      "8391                         NaN                       NaN   \n",
      "\n",
      "       IN_FIN_NAOREEMB_ENT_EXTERNA  ANO_INGRESSO  \n",
      "33453                          0.0        2006.0  \n",
      "30913                          NaN        2010.0  \n",
      "24687                          NaN        2010.0  \n",
      "30640                          NaN        2010.0  \n",
      "8391                           NaN        2010.0  \n",
      "\n",
      "[5 rows x 28 columns]\n"
     ]
    }
   ],
   "source": [
    "#check sample head\n",
    "print(sample.head())"
   ]
  },
  {
   "cell_type": "code",
   "execution_count": 9,
   "metadata": {},
   "outputs": [
    {
     "name": "stdout",
     "output_type": "stream",
     "text": [
      "Collecting pandas_profiling\n",
      "  Downloading https://files.pythonhosted.org/packages/a7/7c/84f15ee705793a3cdd43bc65e6166d65d36f743b815ea517b02582989533/pandas_profiling-1.4.1-py2.py3-none-any.whl\n",
      "Requirement already satisfied: pandas>=0.19 in /opt/conda/lib/python3.6/site-packages (from pandas_profiling)\n",
      "Requirement already satisfied: jinja2>=2.8 in /opt/conda/lib/python3.6/site-packages (from pandas_profiling)\n",
      "Requirement already satisfied: matplotlib>=1.4 in /opt/conda/lib/python3.6/site-packages (from pandas_profiling)\n",
      "Requirement already satisfied: six>=1.9 in /opt/conda/lib/python3.6/site-packages (from pandas_profiling)\n",
      "Requirement already satisfied: pytz>=2011k in /opt/conda/lib/python3.6/site-packages (from pandas>=0.19->pandas_profiling)\n",
      "Requirement already satisfied: numpy>=1.9.0 in /opt/conda/lib/python3.6/site-packages (from pandas>=0.19->pandas_profiling)\n",
      "Requirement already satisfied: python-dateutil>=2.5.0 in /opt/conda/lib/python3.6/site-packages (from pandas>=0.19->pandas_profiling)\n",
      "Requirement already satisfied: MarkupSafe>=0.23 in /opt/conda/lib/python3.6/site-packages (from jinja2>=2.8->pandas_profiling)\n",
      "Requirement already satisfied: cycler>=0.10 in /opt/conda/lib/python3.6/site-packages (from matplotlib>=1.4->pandas_profiling)\n",
      "Requirement already satisfied: pyparsing!=2.0.4,!=2.1.2,!=2.1.6,>=2.0.1 in /opt/conda/lib/python3.6/site-packages (from matplotlib>=1.4->pandas_profiling)\n",
      "Requirement already satisfied: kiwisolver>=1.0.1 in /opt/conda/lib/python3.6/site-packages (from matplotlib>=1.4->pandas_profiling)\n",
      "Requirement already satisfied: setuptools in /opt/conda/lib/python3.6/site-packages (from kiwisolver>=1.0.1->matplotlib>=1.4->pandas_profiling)\n",
      "Installing collected packages: pandas-profiling\n",
      "Successfully installed pandas-profiling-1.4.1\n",
      "\u001b[33mYou are using pip version 9.0.3, however version 18.1 is available.\n",
      "You should consider upgrading via the 'pip install --upgrade pip' command.\u001b[0m\n"
     ]
    }
   ],
   "source": [
    "!pip install pandas_profiling\n",
    "import pandas_profiling as pf"
   ]
  },
  {
   "cell_type": "code",
   "execution_count": 10,
   "metadata": {},
   "outputs": [],
   "source": [
    "#generate report\n",
    "report_2011 = pf.ProfileReport(sample.compute());"
   ]
  },
  {
   "cell_type": "code",
   "execution_count": 11,
   "metadata": {},
   "outputs": [],
   "source": [
    "#export report to html\n",
    "report_2011.to_file(outputfile=\"report_2011.html\");"
   ]
  },
  {
   "cell_type": "code",
   "execution_count": 12,
   "metadata": {},
   "outputs": [],
   "source": [
    "#export sample to csv\n",
    "sample.compute().to_csv('sample_2011.csv');"
   ]
  },
  {
   "cell_type": "code",
   "execution_count": null,
   "metadata": {},
   "outputs": [],
   "source": []
  }
 ],
 "metadata": {
  "kernelspec": {
   "display_name": "Python 3",
   "language": "python",
   "name": "python3"
  },
  "language_info": {
   "codemirror_mode": {
    "name": "ipython",
    "version": 3
   },
   "file_extension": ".py",
   "mimetype": "text/x-python",
   "name": "python",
   "nbconvert_exporter": "python",
   "pygments_lexer": "ipython3",
   "version": "3.6.3"
  }
 },
 "nbformat": 4,
 "nbformat_minor": 2
}
