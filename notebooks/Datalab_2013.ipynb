{
 "cells": [
  {
   "cell_type": "code",
   "execution_count": 1,
   "metadata": {},
   "outputs": [],
   "source": [
    "import dask as dask\n",
    "import dask.dataframe as dd\n",
    "\n",
    "dataframe_1 = dd.read_csv('DM_ALUNO_2013.CSV', delimiter='|', encoding='ISO-8859-1', usecols=['CO_COR_RACA_ALUNO',\n",
    "                          'IN_SEXO_ALUNO',\n",
    "                          'NU_ANO_ALUNO_NASC',\n",
    "                          'IN_RESERVA_VAGAS',\n",
    "                          'IN_FINANC_ESTUDANTIL',\n",
    "                          'IN_RESERVA_ETNICO',\n",
    "                          'IN_ING_VESTIBULAR',\n",
    "                          'IN_ING_ENEM',\n",
    "                          'IN_ING_CONVENIO_PECG',                                                   \n",
    "                          'IN_RESERVA_ETNICO',\n",
    "                          'IN_RESERVA_DEFICIENCIA',\n",
    "                          'IN_RESERVA_ENSINO_PUBLICO',\n",
    "                          'IN_RESERVA_RENDA_FAMILIAR',\n",
    "                          'IN_FIN_REEMB_FIES',\n",
    "                          'IN_FIN_REEMB_ESTADUAL',\n",
    "                          'IN_FIN_REEMB_MUNICIPAL',\n",
    "                          'IN_FIN_REEMB_PROG_IES',\n",
    "                          'IN_FIN_REEMB_ENT_EXTERNA',\n",
    "                          'IN_FIN_NAOREEMB_PROUNI_INTEGR',\n",
    "                          'IN_FIN_NAOREEMB_PROUNI_PARCIAL',\n",
    "                          'IN_FIN_NAOREEMB_ESTADUAL',\n",
    "                          'IN_FIN_NAOREEMB_MUNICIPAL',\n",
    "                          'IN_FIN_NAOREEMB_PROG_IES',\n",
    "                          'IN_FIN_NAOREEMB_ENT_EXTERNA',\n",
    "                          'ANO_INGRESSO']);"
   ]
  },
  {
   "cell_type": "code",
   "execution_count": 2,
   "metadata": {},
   "outputs": [],
   "source": [
    "dataSample = dataframe_1.sample(frac=0.01)"
   ]
  },
  {
   "cell_type": "code",
   "execution_count": 3,
   "metadata": {},
   "outputs": [],
   "source": [
    "import pandas_profiling as pf"
   ]
  },
  {
   "cell_type": "code",
   "execution_count": 4,
   "metadata": {},
   "outputs": [
    {
     "name": "stderr",
     "output_type": "stream",
     "text": [
      "/usr/local/lib/python3.6/site-packages/matplotlib/font_manager.py:1238: UserWarning: findfont: Font family ['sans-serif'] not found. Falling back to DejaVu Sans.\n",
      "  (prop.get_family(), self.defaultFamily[fontext]))\n",
      "/usr/local/lib/python3.6/site-packages/matplotlib/font_manager.py:1238: UserWarning: findfont: Font family ['sans-serif'] not found. Falling back to DejaVu Sans.\n",
      "  (prop.get_family(), self.defaultFamily[fontext]))\n",
      "/usr/local/lib/python3.6/site-packages/matplotlib/font_manager.py:1238: UserWarning: findfont: Font family ['sans-serif'] not found. Falling back to DejaVu Sans.\n",
      "  (prop.get_family(), self.defaultFamily[fontext]))\n",
      "/usr/local/lib/python3.6/site-packages/matplotlib/font_manager.py:1238: UserWarning: findfont: Font family ['sans-serif'] not found. Falling back to DejaVu Sans.\n",
      "  (prop.get_family(), self.defaultFamily[fontext]))\n",
      "/usr/local/lib/python3.6/site-packages/matplotlib/font_manager.py:1238: UserWarning: findfont: Font family ['sans-serif'] not found. Falling back to DejaVu Sans.\n",
      "  (prop.get_family(), self.defaultFamily[fontext]))\n"
     ]
    }
   ],
   "source": [
    "report_2013 = pf.ProfileReport(dataSample.compute())"
   ]
  },
  {
   "cell_type": "code",
   "execution_count": 5,
   "metadata": {},
   "outputs": [],
   "source": [
    "report_2013.to_file(outputfile=\"report_2013.html\")"
   ]
  },
  {
   "cell_type": "code",
   "execution_count": 6,
   "metadata": {},
   "outputs": [],
   "source": [
    "dataSample.compute().to_csv('sample_2013.csv')"
   ]
  },
  {
   "cell_type": "code",
   "execution_count": null,
   "metadata": {},
   "outputs": [],
   "source": []
  }
 ],
 "metadata": {
  "kernelspec": {
   "display_name": "Python 3",
   "language": "python",
   "name": "python3"
  },
  "language_info": {
   "codemirror_mode": {
    "name": "ipython",
    "version": 3
   },
   "file_extension": ".py",
   "mimetype": "text/x-python",
   "name": "python",
   "nbconvert_exporter": "python",
   "pygments_lexer": "ipython3",
   "version": "3.6.4"
  }
 },
 "nbformat": 4,
 "nbformat_minor": 2
}
