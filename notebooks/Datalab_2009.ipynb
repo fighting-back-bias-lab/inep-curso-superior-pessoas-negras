{
 "cells": [
  {
   "cell_type": "code",
   "execution_count": 2,
   "metadata": {},
   "outputs": [],
   "source": [
    "import dask as dask\n",
    "import dask.dataframe as dd\n",
    "\n",
    "dataframe_1 = dd.read_csv('DM_ALUNO_2009.CSV', delimiter='|', encoding='ISO-8859-1', usecols=['CO_COR_RACA_ALUNO',\n",
    "                          'IN_SEXO_ALUNO',\n",
    "                          'NU_ANO_ALUNO_NASC',\n",
    "                          'IN_RESERVA_VAGAS',\n",
    "                          'IN_FINANC_ESTUDANTIL',\n",
    "                          'IN_RESERVA_ETNICO',\n",
    "                          'IN_ING_VESTIBULAR',\n",
    "                          'IN_ING_ENEM',\n",
    "                          'IN_ING_CONVENIO_PECG',                                                   \n",
    "                          'IN_RESERVA_ETNICO',\n",
    "                          'IN_RESERVA_DEFICIENCIA',\n",
    "                          'IN_RESERVA_ENSINO_PUBLICO',\n",
    "                          'IN_RESERVA_RENDA_FAMILIAR',\n",
    "                          'IN_RESERVA_OUTROS',\n",
    "                          'IN_FIES',\n",
    "                          'IN_FINANC_ESTADUAL_REEMB',\n",
    "                          'IN_FINANC_MUNICIPAL_REEMB',\n",
    "                          'IN_FINANC_IES_REEMB',\n",
    "                          'IN_FINANC_EXTERNAS_REEMB',\n",
    "                          'IN_FINANC_OUTROS_REEMB',\n",
    "                          'IN_PROUNI_INTEGRAL',\n",
    "                          'IN_PROUNI_PARCIAL',\n",
    "                          'IN_FINANC_ESTADUAL',\n",
    "                          'IN_FINANC_MUNICIPAL',\n",
    "                          'IN_FINANC_IES',\n",
    "                          'IN_FINANC_EXTERNAS',\n",
    "                          'ANO_INGRESSO']);"
   ]
  },
  {
   "cell_type": "code",
   "execution_count": 3,
   "metadata": {},
   "outputs": [
    {
     "data": {
      "text/plain": [
       "Index(['IN_ING_VESTIBULAR', 'IN_ING_ENEM', 'IN_ING_CONVENIO_PECG',\n",
       "       'IN_RESERVA_VAGAS', 'IN_RESERVA_ENSINO_PUBLICO', 'IN_RESERVA_ETNICO',\n",
       "       'IN_RESERVA_DEFICIENCIA', 'IN_RESERVA_RENDA_FAMILIAR',\n",
       "       'IN_RESERVA_OUTROS', 'IN_FINANC_ESTUDANTIL', 'IN_FINANC_EXTERNAS',\n",
       "       'IN_FINANC_EXTERNAS_REEMB', 'IN_FINANC_IES', 'IN_FINANC_IES_REEMB',\n",
       "       'IN_FINANC_MUNICIPAL', 'IN_FINANC_MUNICIPAL_REEMB',\n",
       "       'IN_FINANC_ESTADUAL', 'IN_FINANC_ESTADUAL_REEMB',\n",
       "       'IN_FINANC_OUTROS_REEMB', 'IN_PROUNI_INTEGRAL', 'IN_PROUNI_PARCIAL',\n",
       "       'IN_FIES', 'IN_SEXO_ALUNO', 'CO_COR_RACA_ALUNO', 'NU_ANO_ALUNO_NASC',\n",
       "       'ANO_INGRESSO'],\n",
       "      dtype='object')"
      ]
     },
     "execution_count": 3,
     "metadata": {},
     "output_type": "execute_result"
    }
   ],
   "source": [
    "dataframe_1.columns"
   ]
  },
  {
   "cell_type": "code",
   "execution_count": 4,
   "metadata": {},
   "outputs": [],
   "source": [
    "df_renamed = dataframe_1.rename(columns={\"IN_FIES\":\"IN_FIN_REEMB_FIES\",\n",
    "                                         \"IN_FINANC_ESTADUAL_REEMB\":\"IN_FIN_REEMB_ESTADUAL\",\n",
    "                                         \"IN_FINANC_MUNICIPAL_REEMB\":\"IN_FIN_REEMB_MUNICIPAL\",\n",
    "                                         \"IN_FINANC_IES_REEMB\":\"IN_FIN_REEMB_PROG_IES\",\n",
    "                                         \"IN_FINANC_EXTERNAS_REEMB\":\"IN_FIN_REEMB_ENT_EXTERNA\",\n",
    "                                         \"IN_FINANC_OUTROS_REEMB\":\"IN_FIN_REEMB_OUTRA\",\n",
    "                                         \"IN_PROUNI_INTEGRAL\":\"IN_FIN_NAOREEMB_PROUNI_INTEGR\",\n",
    "                                         \"IN_PROUNI_PARCIAL\":\"IN_FIN_NAOREEMB_PROUNI_PARCIAL\",\n",
    "                                         \"IN_FINANC_ESTADUAL\":\"IN_FIN_NAOREEMB_ESTADUAL\",\n",
    "                                         \"IN_FINANC_MUNICIPAL\":\"IN_FIN_NAOREEMB_MUNICIPAL\",\n",
    "                                         \"IN_FINANC_IES\":\"IN_FIN_NAOREEMB_PROG_IES\",\n",
    "                                         \"IN_FINANC_EXTERNAS\":\"IN_FIN_NAOREEMB_ENT_EXTERNA\"})"
   ]
  },
  {
   "cell_type": "code",
   "execution_count": 5,
   "metadata": {},
   "outputs": [
    {
     "data": {
      "text/plain": [
       "Index(['IN_ING_VESTIBULAR', 'IN_ING_ENEM', 'IN_ING_CONVENIO_PECG',\n",
       "       'IN_RESERVA_VAGAS', 'IN_RESERVA_ENSINO_PUBLICO', 'IN_RESERVA_ETNICO',\n",
       "       'IN_RESERVA_DEFICIENCIA', 'IN_RESERVA_RENDA_FAMILIAR',\n",
       "       'IN_RESERVA_OUTROS', 'IN_FINANC_ESTUDANTIL',\n",
       "       'IN_FIN_NAOREEMB_ENT_EXTERNA', 'IN_FIN_REEMB_ENT_EXTERNA',\n",
       "       'IN_FIN_NAOREEMB_PROG_IES', 'IN_FIN_REEMB_PROG_IES',\n",
       "       'IN_FIN_NAOREEMB_MUNICIPAL', 'IN_FIN_REEMB_MUNICIPAL',\n",
       "       'IN_FIN_NAOREEMB_ESTADUAL', 'IN_FIN_REEMB_ESTADUAL',\n",
       "       'IN_FIN_REEMB_OUTRA', 'IN_FIN_NAOREEMB_PROUNI_INTEGR',\n",
       "       'IN_FIN_NAOREEMB_PROUNI_PARCIAL', 'IN_FIN_REEMB_FIES', 'IN_SEXO_ALUNO',\n",
       "       'CO_COR_RACA_ALUNO', 'NU_ANO_ALUNO_NASC', 'ANO_INGRESSO'],\n",
       "      dtype='object')"
      ]
     },
     "execution_count": 5,
     "metadata": {},
     "output_type": "execute_result"
    }
   ],
   "source": [
    "df_renamed.columns"
   ]
  },
  {
   "cell_type": "code",
   "execution_count": 6,
   "metadata": {},
   "outputs": [
    {
     "data": {
      "text/plain": [
       "6982018"
      ]
     },
     "execution_count": 6,
     "metadata": {},
     "output_type": "execute_result"
    }
   ],
   "source": [
    "len(df_renamed)"
   ]
  },
  {
   "cell_type": "code",
   "execution_count": 7,
   "metadata": {},
   "outputs": [],
   "source": [
    "dataSample = df_renamed.sample(frac=0.01)"
   ]
  },
  {
   "cell_type": "code",
   "execution_count": 8,
   "metadata": {},
   "outputs": [
    {
     "data": {
      "text/plain": [
       "69817"
      ]
     },
     "execution_count": 8,
     "metadata": {},
     "output_type": "execute_result"
    }
   ],
   "source": [
    "len(dataSample)"
   ]
  },
  {
   "cell_type": "code",
   "execution_count": null,
   "metadata": {},
   "outputs": [],
   "source": [
    "import pandas_profiling as pf"
   ]
  },
  {
   "cell_type": "code",
   "execution_count": null,
   "metadata": {},
   "outputs": [],
   "source": [
    "report_2009 = pf.ProfileReport(dataSample.compute())"
   ]
  },
  {
   "cell_type": "code",
   "execution_count": null,
   "metadata": {},
   "outputs": [],
   "source": [
    "report_2009.to_file(outputfile=\"report_2009.html\")"
   ]
  },
  {
   "cell_type": "code",
   "execution_count": 11,
   "metadata": {},
   "outputs": [],
   "source": [
    "dataSample.compute().to_csv('sample_2009.csv')"
   ]
  }
 ],
 "metadata": {
  "kernelspec": {
   "display_name": "Python 3",
   "language": "python",
   "name": "python3"
  },
  "language_info": {
   "codemirror_mode": {
    "name": "ipython",
    "version": 3
   },
   "file_extension": ".py",
   "mimetype": "text/x-python",
   "name": "python",
   "nbconvert_exporter": "python",
   "pygments_lexer": "ipython3",
   "version": "3.6.5"
  }
 },
 "nbformat": 4,
 "nbformat_minor": 2
}
