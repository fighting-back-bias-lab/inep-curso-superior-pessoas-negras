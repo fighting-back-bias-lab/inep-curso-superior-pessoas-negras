{
 "cells": [
  {
   "cell_type": "code",
   "execution_count": 15,
   "metadata": {},
   "outputs": [],
   "source": [
    "import dask.dataframe as daskData\n",
    "import numpy"
   ]
  },
  {
   "cell_type": "code",
   "execution_count": 3,
   "metadata": {},
   "outputs": [],
   "source": [
    "dataframe = daskData.read_csv('2016-DM_ALUNO.CSV', delimiter='|', encoding='ISO-8859-1', \n",
    "                              usecols=['CO_COR_RACA_ALUNO',\n",
    "'DS_COR_RACA_ALUNO', \n",
    "'IN_SEXO_ALUNO',\n",
    "'DS_SEXO_ALUNO',\n",
    "'NU_ANO_ALUNO_NASC',\n",
    "'IN_RESERVA_VAGAS',\n",
    "'IN_FINANC_ESTUDANTIL',\n",
    "'IN_ING_VESTIBULAR',\n",
    "'IN_ING_ENEM',\n",
    "'IN_ING_CONVENIO_PECG',\n",
    "'IN_RESERVA_ETNICO',\n",
    "'IN_RESERVA_DEFICIENCIA',\n",
    "'IN_RESERVA_ENSINO_PUBLICO',\n",
    "'IN_RESERVA_RENDA_FAMILIAR',\n",
    "'IN_RESERVA_OUTRA',\n",
    "'IN_FIN_REEMB_FIES',\n",
    "'IN_FIN_REEMB_ESTADUAL',\n",
    "'IN_FIN_REEMB_MUNICIPAL',\n",
    "'IN_FIN_REEMB_PROG_IES',\n",
    "'IN_FIN_REEMB_ENT_EXTERNA',\n",
    "'IN_FIN_REEMB_OUTRA',\n",
    "'IN_FIN_NAOREEMB_PROUNI_INTEGR',\n",
    "'IN_FIN_NAOREEMB_PROUNI_PARCIAL',\n",
    "'IN_FIN_NAOREEMB_ESTADUAL',\n",
    "'IN_FIN_NAOREEMB_MUNICIPAL',\n",
    "'IN_FIN_NAOREEMB_PROG_IES',\n",
    "'IN_FIN_NAOREEMB_ENT_EXTERNA',\n",
    "'ANO_INGRESSO'], assume_missing=True);"
   ]
  },
  {
   "cell_type": "code",
   "execution_count": 4,
   "metadata": {},
   "outputs": [],
   "source": [
    "dataframe = dataframe.rename(columns = {'IN_RESERVA_OUTRA': 'IN_RESERVA_OUTROS'})"
   ]
  },
  {
   "cell_type": "code",
   "execution_count": 5,
   "metadata": {},
   "outputs": [
    {
     "data": {
      "text/plain": [
       "11449222"
      ]
     },
     "execution_count": 5,
     "metadata": {},
     "output_type": "execute_result"
    }
   ],
   "source": [
    "len(dataframe)"
   ]
  },
  {
   "cell_type": "code",
   "execution_count": 12,
   "metadata": {},
   "outputs": [],
   "source": [
    "sample_2016 = dataframe.sample(frac=0.05)"
   ]
  },
  {
   "cell_type": "code",
   "execution_count": 14,
   "metadata": {},
   "outputs": [
    {
     "name": "stdout",
     "output_type": "stream",
     "text": [
      "Requirement already satisfied: pandas_profiling in /usr/local/lib/python3.6/site-packages\n",
      "Requirement already satisfied: jinja2>=2.8 in /usr/local/lib/python3.6/site-packages (from pandas_profiling)\n",
      "Requirement already satisfied: pandas>=0.19 in /usr/local/lib/python3.6/site-packages (from pandas_profiling)\n",
      "Requirement already satisfied: six>=1.9 in /usr/local/lib/python3.6/site-packages (from pandas_profiling)\n",
      "Requirement already satisfied: matplotlib>=1.4 in /usr/local/lib/python3.6/site-packages (from pandas_profiling)\n",
      "Requirement already satisfied: MarkupSafe>=0.23 in /usr/local/lib/python3.6/site-packages (from jinja2>=2.8->pandas_profiling)\n",
      "Requirement already satisfied: pytz>=2011k in /usr/local/lib/python3.6/site-packages (from pandas>=0.19->pandas_profiling)\n",
      "Requirement already satisfied: python-dateutil>=2 in /usr/local/lib/python3.6/site-packages (from pandas>=0.19->pandas_profiling)\n",
      "Requirement already satisfied: numpy>=1.9.0 in /usr/local/lib/python3.6/site-packages (from pandas>=0.19->pandas_profiling)\n",
      "Requirement already satisfied: cycler>=0.10 in /usr/local/lib/python3.6/site-packages (from matplotlib>=1.4->pandas_profiling)\n",
      "Requirement already satisfied: pyparsing!=2.0.4,!=2.1.2,!=2.1.6,>=2.0.1 in /usr/local/lib/python3.6/site-packages (from matplotlib>=1.4->pandas_profiling)\n",
      "Requirement already satisfied: kiwisolver>=1.0.1 in /usr/local/lib/python3.6/site-packages (from matplotlib>=1.4->pandas_profiling)\n",
      "Requirement already satisfied: setuptools in /usr/local/lib/python3.6/site-packages (from kiwisolver>=1.0.1->matplotlib>=1.4->pandas_profiling)\n",
      "\u001b[33mYou are using pip version 9.0.3, however version 18.1 is available.\n",
      "You should consider upgrading via the 'pip install --upgrade pip' command.\u001b[0m\n"
     ]
    },
    {
     "ename": "ModuleNotFoundError",
     "evalue": "No module named 'pandas_profiling'",
     "output_type": "error",
     "traceback": [
      "\u001b[0;31m---------------------------------------------------------------------------\u001b[0m",
      "\u001b[0;31mModuleNotFoundError\u001b[0m                       Traceback (most recent call last)",
      "\u001b[0;32m<ipython-input-14-303b0fc56fa5>\u001b[0m in \u001b[0;36m<module>\u001b[0;34m()\u001b[0m\n\u001b[1;32m      1\u001b[0m \u001b[0mget_ipython\u001b[0m\u001b[0;34m(\u001b[0m\u001b[0;34m)\u001b[0m\u001b[0;34m.\u001b[0m\u001b[0msystem\u001b[0m\u001b[0;34m(\u001b[0m\u001b[0;34m'pip install pandas_profiling'\u001b[0m\u001b[0;34m)\u001b[0m\u001b[0;34m\u001b[0m\u001b[0m\n\u001b[0;32m----> 2\u001b[0;31m \u001b[0;32mimport\u001b[0m \u001b[0mpandas_profiling\u001b[0m\u001b[0;34m\u001b[0m\u001b[0m\n\u001b[0m",
      "\u001b[0;31mModuleNotFoundError\u001b[0m: No module named 'pandas_profiling'"
     ]
    }
   ],
   "source": [
    "!pip install pandas_profiling\n",
    "import pandas_profiling"
   ]
  },
  {
   "cell_type": "code",
   "execution_count": 13,
   "metadata": {},
   "outputs": [
    {
     "ename": "NameError",
     "evalue": "name 'pandas_profiling' is not defined",
     "output_type": "error",
     "traceback": [
      "\u001b[0;31m---------------------------------------------------------------------------\u001b[0m",
      "\u001b[0;31mNameError\u001b[0m                                 Traceback (most recent call last)",
      "\u001b[0;32m<ipython-input-13-5c62b39c008d>\u001b[0m in \u001b[0;36m<module>\u001b[0;34m()\u001b[0m\n\u001b[0;32m----> 1\u001b[0;31m \u001b[0mpandas_profiling\u001b[0m\u001b[0;34m.\u001b[0m\u001b[0mProfileReport\u001b[0m\u001b[0;34m(\u001b[0m\u001b[0msample_2016\u001b[0m\u001b[0;34m.\u001b[0m\u001b[0mcompute\u001b[0m\u001b[0;34m(\u001b[0m\u001b[0;34m)\u001b[0m\u001b[0;34m)\u001b[0m\u001b[0;34m\u001b[0m\u001b[0m\n\u001b[0m",
      "\u001b[0;31mNameError\u001b[0m: name 'pandas_profiling' is not defined"
     ]
    }
   ],
   "source": [
    "pandas_profiling.ProfileReport(sample_2016.compute())"
   ]
  }
 ],
 "metadata": {
  "kernelspec": {
   "display_name": "Python 3",
   "language": "python",
   "name": "python3"
  },
  "language_info": {
   "codemirror_mode": {
    "name": "ipython",
    "version": 3
   },
   "file_extension": ".py",
   "mimetype": "text/x-python",
   "name": "python",
   "nbconvert_exporter": "python",
   "pygments_lexer": "ipython3",
   "version": "3.6.5"
  }
 },
 "nbformat": 4,
 "nbformat_minor": 2
}
