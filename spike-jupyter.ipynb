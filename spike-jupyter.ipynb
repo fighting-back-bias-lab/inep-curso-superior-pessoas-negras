{
 "cells": [
  {
   "cell_type": "code",
   "execution_count": 4,
   "metadata": {},
   "outputs": [],
   "source": [
    "import pandas as pd\n",
    "\n",
    "world_countries_data_frame = pd.read_csv('countries of the world.csv')\n"
   ]
  },
  {
   "cell_type": "code",
   "execution_count": 3,
   "metadata": {},
   "outputs": [
    {
     "data": {
      "text/html": [
       "<div>\n",
       "<style scoped>\n",
       "    .dataframe tbody tr th:only-of-type {\n",
       "        vertical-align: middle;\n",
       "    }\n",
       "\n",
       "    .dataframe tbody tr th {\n",
       "        vertical-align: top;\n",
       "    }\n",
       "\n",
       "    .dataframe thead th {\n",
       "        text-align: right;\n",
       "    }\n",
       "</style>\n",
       "<table border=\"1\" class=\"dataframe\">\n",
       "  <thead>\n",
       "    <tr style=\"text-align: right;\">\n",
       "      <th></th>\n",
       "      <th>Population</th>\n",
       "      <th>Area (sq. mi.)</th>\n",
       "      <th>GDP ($ per capita)</th>\n",
       "    </tr>\n",
       "  </thead>\n",
       "  <tbody>\n",
       "    <tr>\n",
       "      <th>count</th>\n",
       "      <td>2.270000e+02</td>\n",
       "      <td>2.270000e+02</td>\n",
       "      <td>226.000000</td>\n",
       "    </tr>\n",
       "    <tr>\n",
       "      <th>mean</th>\n",
       "      <td>2.874028e+07</td>\n",
       "      <td>5.982270e+05</td>\n",
       "      <td>9689.823009</td>\n",
       "    </tr>\n",
       "    <tr>\n",
       "      <th>std</th>\n",
       "      <td>1.178913e+08</td>\n",
       "      <td>1.790282e+06</td>\n",
       "      <td>10049.138513</td>\n",
       "    </tr>\n",
       "    <tr>\n",
       "      <th>min</th>\n",
       "      <td>7.026000e+03</td>\n",
       "      <td>2.000000e+00</td>\n",
       "      <td>500.000000</td>\n",
       "    </tr>\n",
       "    <tr>\n",
       "      <th>25%</th>\n",
       "      <td>4.376240e+05</td>\n",
       "      <td>4.647500e+03</td>\n",
       "      <td>1900.000000</td>\n",
       "    </tr>\n",
       "    <tr>\n",
       "      <th>50%</th>\n",
       "      <td>4.786994e+06</td>\n",
       "      <td>8.660000e+04</td>\n",
       "      <td>5550.000000</td>\n",
       "    </tr>\n",
       "    <tr>\n",
       "      <th>75%</th>\n",
       "      <td>1.749777e+07</td>\n",
       "      <td>4.418110e+05</td>\n",
       "      <td>15700.000000</td>\n",
       "    </tr>\n",
       "    <tr>\n",
       "      <th>max</th>\n",
       "      <td>1.313974e+09</td>\n",
       "      <td>1.707520e+07</td>\n",
       "      <td>55100.000000</td>\n",
       "    </tr>\n",
       "  </tbody>\n",
       "</table>\n",
       "</div>"
      ],
      "text/plain": [
       "         Population  Area (sq. mi.)  GDP ($ per capita)\n",
       "count  2.270000e+02    2.270000e+02          226.000000\n",
       "mean   2.874028e+07    5.982270e+05         9689.823009\n",
       "std    1.178913e+08    1.790282e+06        10049.138513\n",
       "min    7.026000e+03    2.000000e+00          500.000000\n",
       "25%    4.376240e+05    4.647500e+03         1900.000000\n",
       "50%    4.786994e+06    8.660000e+04         5550.000000\n",
       "75%    1.749777e+07    4.418110e+05        15700.000000\n",
       "max    1.313974e+09    1.707520e+07        55100.000000"
      ]
     },
     "execution_count": 3,
     "metadata": {},
     "output_type": "execute_result"
    }
   ],
   "source": [
    "world_countries_data_frame.describe()"
   ]
  },
  {
   "cell_type": "code",
   "execution_count": 7,
   "metadata": {},
   "outputs": [
    {
     "data": {
      "text/plain": [
       "Country                                object\n",
       "Region                                 object\n",
       "Population                              int64\n",
       "Area (sq. mi.)                          int64\n",
       "Pop. Density (per sq. mi.)             object\n",
       "Coastline (coast/area ratio)           object\n",
       "Net migration                          object\n",
       "Infant mortality (per 1000 births)     object\n",
       "GDP ($ per capita)                    float64\n",
       "Literacy (%)                           object\n",
       "Phones (per 1000)                      object\n",
       "Arable (%)                             object\n",
       "Crops (%)                              object\n",
       "Other (%)                              object\n",
       "Climate                                object\n",
       "Birthrate                              object\n",
       "Deathrate                              object\n",
       "Agriculture                            object\n",
       "Industry                               object\n",
       "Service                                object\n",
       "dtype: object"
      ]
     },
     "execution_count": 7,
     "metadata": {},
     "output_type": "execute_result"
    }
   ],
   "source": [
    "world_countries_data_frame.dtypes"
   ]
  },
  {
   "cell_type": "code",
   "execution_count": 8,
   "metadata": {},
   "outputs": [
    {
     "name": "stdout",
     "output_type": "stream",
     "text": [
      "How many observations for the field Country: 227\n"
     ]
    }
   ],
   "source": [
    "print('How many observations for the field Country: %d' % len(world_countries_data_frame['Country']))"
   ]
  },
  {
   "cell_type": "code",
   "execution_count": 13,
   "metadata": {},
   "outputs": [
    {
     "name": "stdout",
     "output_type": "stream",
     "text": [
      "How many observations for the field Other: 227\n"
     ]
    }
   ],
   "source": [
    "print('How many observations for the field Other: %d' % len(world_countries_data_frame[\"Other (%)\"]))"
   ]
  },
  {
   "cell_type": "code",
   "execution_count": 14,
   "metadata": {},
   "outputs": [
    {
     "data": {
      "text/plain": [
       "225"
      ]
     },
     "execution_count": 14,
     "metadata": {},
     "output_type": "execute_result"
    }
   ],
   "source": [
    "# How many empty, null values for the field Other\n",
    "world_countries_data_frame[\"Other (%)\"].count()"
   ]
  },
  {
   "cell_type": "code",
   "execution_count": 15,
   "metadata": {},
   "outputs": [
    {
     "data": {
      "text/plain": [
       "0      87,65\n",
       "1      74,49\n",
       "2      96,53\n",
       "3         75\n",
       "4      97,78\n",
       "5      97,35\n",
       "6        100\n",
       "7      77,27\n",
       "8      87,21\n",
       "9      80,15\n",
       "10     89,47\n",
       "11     93,41\n",
       "12     82,23\n",
       "13     77,66\n",
       "14      98,8\n",
       "15     91,55\n",
       "16     34,82\n",
       "17     60,46\n",
       "18     69,85\n",
       "19     76,32\n",
       "20     95,44\n",
       "21     79,52\n",
       "22        80\n",
       "23     96,48\n",
       "24     97,14\n",
       "25     83,44\n",
       "26     99,34\n",
       "27     92,15\n",
       "28     73,33\n",
       "29     98,67\n",
       "       ...  \n",
       "197    70,35\n",
       "198       75\n",
       "199    92,47\n",
       "200     94,4\n",
       "201    64,18\n",
       "202    51,64\n",
       "203    33,33\n",
       "204    76,22\n",
       "205     68,4\n",
       "206    65,76\n",
       "207    96,14\n",
       "208    97,67\n",
       "209      100\n",
       "210    63,47\n",
       "211    42,18\n",
       "212    97,15\n",
       "213    76,33\n",
       "214    80,65\n",
       "215    92,34\n",
       "216    88,34\n",
       "217    90,16\n",
       "218    96,13\n",
       "219    74,08\n",
       "220     85,3\n",
       "221       70\n",
       "222    64,13\n",
       "223    99,98\n",
       "224    96,98\n",
       "225     92,9\n",
       "226    91,34\n",
       "Name: Other (%), Length: 227, dtype: object"
      ]
     },
     "execution_count": 15,
     "metadata": {},
     "output_type": "execute_result"
    }
   ],
   "source": [
    "world_countries_data_frame[\"Other (%)\"]"
   ]
  },
  {
   "cell_type": "code",
   "execution_count": null,
   "metadata": {},
   "outputs": [],
   "source": []
  }
 ],
 "metadata": {
  "kernelspec": {
   "display_name": "Python 3",
   "language": "python",
   "name": "python3"
  },
  "language_info": {
   "codemirror_mode": {
    "name": "ipython",
    "version": 3
   },
   "file_extension": ".py",
   "mimetype": "text/x-python",
   "name": "python",
   "nbconvert_exporter": "python",
   "pygments_lexer": "ipython3",
   "version": "3.6.3"
  }
 },
 "nbformat": 4,
 "nbformat_minor": 2
}
